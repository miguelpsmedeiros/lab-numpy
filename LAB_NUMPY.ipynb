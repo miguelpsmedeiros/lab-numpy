{
  "nbformat": 4,
  "nbformat_minor": 0,
  "metadata": {
    "colab": {
      "name": "LAB NUMPY",
      "provenance": [],
      "collapsed_sections": [],
      "authorship_tag": "ABX9TyPW0A52uqOiMdjb+xhHqBM0",
      "include_colab_link": true
    },
    "kernelspec": {
      "name": "python3",
      "display_name": "Python 3"
    },
    "language_info": {
      "name": "python"
    }
  },
  "cells": [
    {
      "cell_type": "markdown",
      "metadata": {
        "id": "view-in-github",
        "colab_type": "text"
      },
      "source": [
        "<a href=\"https://colab.research.google.com/github/miguelpsmedeiros/lab-numpy/blob/master/LAB_NUMPY.ipynb\" target=\"_parent\"><img src=\"https://colab.research.google.com/assets/colab-badge.svg\" alt=\"Open In Colab\"/></a>"
      ]
    },
    {
      "cell_type": "code",
      "metadata": {
        "id": "tAPTu3E5nzRx"
      },
      "source": [
        "#1\n",
        "\n",
        "import numpy as np"
      ],
      "execution_count": null,
      "outputs": []
    },
    {
      "cell_type": "code",
      "metadata": {
        "colab": {
          "base_uri": "https://localhost:8080/"
        },
        "id": "tHEs9gzk18W6",
        "outputId": "2fcce889-7904-4e10-c3ab-008ed7b0e948"
      },
      "source": [
        "#2\n",
        "\n",
        "print(np.__version__)"
      ],
      "execution_count": null,
      "outputs": [
        {
          "output_type": "stream",
          "text": [
            "1.19.5\n"
          ],
          "name": "stdout"
        }
      ]
    },
    {
      "cell_type": "code",
      "metadata": {
        "colab": {
          "base_uri": "https://localhost:8080/"
        },
        "id": "sOwYKjCHn8Jc",
        "outputId": "bdccf03e-9b26-4894-b7d7-4e4744077b58"
      },
      "source": [
        "#3 Generate a 2x3x5 3-dimensional array with random values. Assign the array to variable a\n",
        "\n",
        "#3.1\n",
        "\n",
        "a = np.random.random((2,3,5))\n",
        "\n",
        "print(a)"
      ],
      "execution_count": null,
      "outputs": [
        {
          "output_type": "stream",
          "text": [
            "[[[0.17452157 0.7445674  0.95007834 0.25625986 0.78567271]\n",
            "  [0.02060103 0.68590028 0.90674172 0.0875461  0.09990955]\n",
            "  [0.76434896 0.69498252 0.32449504 0.00742818 0.48711646]]\n",
            "\n",
            " [[0.54509895 0.48440537 0.527184   0.51053503 0.10151724]\n",
            "  [0.63128139 0.45206569 0.77878406 0.66678229 0.32004756]\n",
            "  [0.4789057  0.6579435  0.84772085 0.0227161  0.61869243]]]\n"
          ],
          "name": "stdout"
        }
      ]
    },
    {
      "cell_type": "code",
      "metadata": {
        "colab": {
          "base_uri": "https://localhost:8080/"
        },
        "id": "-t_NKTfC4YNo",
        "outputId": "03397642-dee0-411e-d4eb-6333446574b7"
      },
      "source": [
        "#3 Generate a 2x3x5 3-dimensional array with random values. Assign the array to variable a\n",
        "\n",
        "#3.2\n",
        "\n",
        "a = np.random.randint(90,100, size=(2,3,5))\n",
        "\n",
        "print(a)"
      ],
      "execution_count": null,
      "outputs": [
        {
          "output_type": "stream",
          "text": [
            "[[[98 94 95 94 90]\n",
            "  [95 93 97 92 99]\n",
            "  [93 95 93 95 94]]\n",
            "\n",
            " [[97 99 97 92 90]\n",
            "  [91 97 99 90 90]\n",
            "  [98 91 95 99 97]]]\n"
          ],
          "name": "stdout"
        }
      ]
    },
    {
      "cell_type": "code",
      "metadata": {
        "colab": {
          "base_uri": "https://localhost:8080/"
        },
        "id": "667UdhrX_XyI",
        "outputId": "f6832211-61c0-42e4-f436-e3c92a2117c6"
      },
      "source": [
        "#3 Generate a 2x3x5 3-dimensional array with random values. Assign the array to variable a\n",
        "\n",
        "#3.3\n",
        "\n",
        "a = np.random.choice(10, size = (2,3,5))\n",
        "\n",
        "print(a)"
      ],
      "execution_count": null,
      "outputs": [
        {
          "output_type": "stream",
          "text": [
            "[[[3 3 6 6 0]\n",
            "  [2 1 8 0 9]\n",
            "  [5 2 3 6 6]]\n",
            "\n",
            " [[3 9 9 6 0]\n",
            "  [3 9 9 4 8]\n",
            "  [0 9 0 9 7]]]\n"
          ],
          "name": "stdout"
        }
      ]
    },
    {
      "cell_type": "code",
      "metadata": {
        "colab": {
          "base_uri": "https://localhost:8080/"
        },
        "id": "Sci1GwnwB3V0",
        "outputId": "840d0516-5d46-4406-a702-006912826784"
      },
      "source": [
        "#4 Print a\n",
        "\n",
        "print(a)"
      ],
      "execution_count": null,
      "outputs": [
        {
          "output_type": "stream",
          "text": [
            "[[[3 3 6 6 0]\n",
            "  [2 1 8 0 9]\n",
            "  [5 2 3 6 6]]\n",
            "\n",
            " [[3 9 9 6 0]\n",
            "  [3 9 9 4 8]\n",
            "  [0 9 0 9 7]]]\n"
          ],
          "name": "stdout"
        }
      ]
    },
    {
      "cell_type": "code",
      "metadata": {
        "colab": {
          "base_uri": "https://localhost:8080/"
        },
        "id": "8hP5bB4aCHVW",
        "outputId": "98f46bd1-1a71-44e8-941a-87e46ebaeff4"
      },
      "source": [
        "#5 and #6 Create a 5x2x3 3-dimensional array with all values equaling 1. Assign the array to variable b\n",
        "\n",
        "b = np.ones(shape = (5,2,3), dtype=int)\n",
        "\n",
        "print(b)"
      ],
      "execution_count": null,
      "outputs": [
        {
          "output_type": "stream",
          "text": [
            "[[[1 1 1]\n",
            "  [1 1 1]]\n",
            "\n",
            " [[1 1 1]\n",
            "  [1 1 1]]\n",
            "\n",
            " [[1 1 1]\n",
            "  [1 1 1]]\n",
            "\n",
            " [[1 1 1]\n",
            "  [1 1 1]]\n",
            "\n",
            " [[1 1 1]\n",
            "  [1 1 1]]]\n"
          ],
          "name": "stdout"
        }
      ]
    },
    {
      "cell_type": "code",
      "metadata": {
        "colab": {
          "base_uri": "https://localhost:8080/"
        },
        "id": "JNzbbU_-CwNI",
        "outputId": "1753735b-44bd-435d-fba8-dc422f5824d9"
      },
      "source": [
        "#7 Do a and b have the same size? How do you prove that in Python code?\n",
        "\n",
        "z = np.size(a) - np.size(b)\n",
        "\n",
        "if z == 0:\n",
        "  print(\"a and b are the same size\")\n",
        "else:\n",
        "    print(\"a and b are not the same size\")\n"
      ],
      "execution_count": null,
      "outputs": [
        {
          "output_type": "stream",
          "text": [
            "a and b are the same size\n"
          ],
          "name": "stdout"
        }
      ]
    },
    {
      "cell_type": "code",
      "metadata": {
        "id": "9M5En4I4UEQs"
      },
      "source": [
        "#8 Are you able to add a and b? Why or why not?\n",
        "\n",
        "#they have different sizes so you can not add them"
      ],
      "execution_count": null,
      "outputs": []
    },
    {
      "cell_type": "code",
      "metadata": {
        "colab": {
          "base_uri": "https://localhost:8080/"
        },
        "id": "nF90l5LNUek6",
        "outputId": "45f9047e-b336-4465-b043-5162b1628577"
      },
      "source": [
        "#9 Transpose b so that it has the same structure of a (i.e. become a 2x3x5 array). Assign the transposed array to variable c\n",
        "\n",
        "c = b.reshape((2,3,5))\n",
        "\n",
        "print(c)"
      ],
      "execution_count": null,
      "outputs": [
        {
          "output_type": "stream",
          "text": [
            "[[[1 1 1 1 1]\n",
            "  [1 1 1 1 1]\n",
            "  [1 1 1 1 1]]\n",
            "\n",
            " [[1 1 1 1 1]\n",
            "  [1 1 1 1 1]\n",
            "  [1 1 1 1 1]]]\n"
          ],
          "name": "stdout"
        }
      ]
    },
    {
      "cell_type": "code",
      "metadata": {
        "colab": {
          "base_uri": "https://localhost:8080/"
        },
        "id": "EiUMwV72aZKJ",
        "outputId": "ce29c62e-ad52-40f4-cda4-bb194534a6d5"
      },
      "source": [
        "#10 Try to add a and c. Now it should work. Assign the sum to variable d. But why does it work now?\n",
        "\n",
        "d = a + c\n",
        "\n",
        "print(d)\n",
        "\n",
        "#they have the same structure"
      ],
      "execution_count": null,
      "outputs": [
        {
          "output_type": "stream",
          "text": [
            "[[[ 4  4  7  7  1]\n",
            "  [ 3  2  9  1 10]\n",
            "  [ 6  3  4  7  7]]\n",
            "\n",
            " [[ 4 10 10  7  1]\n",
            "  [ 4 10 10  5  9]\n",
            "  [ 1 10  1 10  8]]]\n"
          ],
          "name": "stdout"
        }
      ]
    },
    {
      "cell_type": "code",
      "metadata": {
        "colab": {
          "base_uri": "https://localhost:8080/"
        },
        "id": "WB9eilvba8wn",
        "outputId": "61ee7ac9-1f45-44ba-8914-42b5c4aaad10"
      },
      "source": [
        "#11 Print a and d. Notice the difference and relation of the two array in terms of the values? Explain.\n",
        "\n",
        "print(a)\n",
        "\n",
        "print(d)\n",
        "\n",
        "#when you add/subtract arrays this operations occurs between the same positions in the different arrays. the first value in array a will be added to first value in array b..."
      ],
      "execution_count": null,
      "outputs": [
        {
          "output_type": "stream",
          "text": [
            "[[[3 3 6 6 0]\n",
            "  [2 1 8 0 9]\n",
            "  [5 2 3 6 6]]\n",
            "\n",
            " [[3 9 9 6 0]\n",
            "  [3 9 9 4 8]\n",
            "  [0 9 0 9 7]]]\n",
            "[[[ 4  4  7  7  1]\n",
            "  [ 3  2  9  1 10]\n",
            "  [ 6  3  4  7  7]]\n",
            "\n",
            " [[ 4 10 10  7  1]\n",
            "  [ 4 10 10  5  9]\n",
            "  [ 1 10  1 10  8]]]\n"
          ],
          "name": "stdout"
        }
      ]
    },
    {
      "cell_type": "code",
      "metadata": {
        "colab": {
          "base_uri": "https://localhost:8080/"
        },
        "id": "Nhcj80BvdhQf",
        "outputId": "00f9f913-e999-40dd-e460-f42622d20c19"
      },
      "source": [
        "#12 Multiply a and c. Assign the result to e\n",
        "\n",
        "e = a*c\n",
        "\n",
        "print(e)"
      ],
      "execution_count": null,
      "outputs": [
        {
          "output_type": "stream",
          "text": [
            "[[[3 3 6 6 0]\n",
            "  [2 1 8 0 9]\n",
            "  [5 2 3 6 6]]\n",
            "\n",
            " [[3 9 9 6 0]\n",
            "  [3 9 9 4 8]\n",
            "  [0 9 0 9 7]]]\n"
          ],
          "name": "stdout"
        }
      ]
    },
    {
      "cell_type": "code",
      "metadata": {
        "id": "O1krgmb6eAW-"
      },
      "source": [
        "#13 Does e equal to a? Why or why not?\n",
        "\n",
        "#yes because each value was multiplied by one so the reamin the same"
      ],
      "execution_count": null,
      "outputs": []
    },
    {
      "cell_type": "code",
      "metadata": {
        "colab": {
          "base_uri": "https://localhost:8080/"
        },
        "id": "cVKQbrwOfDYR",
        "outputId": "0a51e245-f6b6-40c5-f7ff-d8281f83d196"
      },
      "source": [
        "#14 Identify the max, min, and mean values in d. Assign those values to variables d_max, d_min and d_mean\n",
        "\n",
        "d_max = d.max()\n",
        "\n",
        "d_min = d.min()\n",
        "\n",
        "d_mean = d.mean()\n",
        "\n",
        "print(d_max)\n",
        "print(d_min)\n",
        "print(d_mean)"
      ],
      "execution_count": null,
      "outputs": [
        {
          "output_type": "stream",
          "text": [
            "10\n",
            "1\n",
            "5.833333333333333\n"
          ],
          "name": "stdout"
        }
      ]
    },
    {
      "cell_type": "code",
      "metadata": {
        "id": "1KZHrFgfgL0I"
      },
      "source": [
        "#15 Now we want to label the values in d. First create an empty array f with the same shape (i.e. 2x3x5) as d using np.empty.\n",
        "\n",
        "f = np.empty(shape = (2,3,5), dtype = int, order = 'C') \n"
      ],
      "execution_count": null,
      "outputs": []
    },
    {
      "cell_type": "code",
      "metadata": {
        "colab": {
          "base_uri": "https://localhost:8080/"
        },
        "id": "c6vgkZGmF-LP",
        "outputId": "4be5a029-a5a8-4d6f-aca4-d520e8b29a81"
      },
      "source": [
        "#16 and #17 For each value in d, if it's larger than d_min but smaller than d_mean, assign 25 to the corresponding value in f. \n",
        "# If a value in d is larger than d_mean but smaller than d_max, assign 75 to the corresponding value in f. \n",
        "# If a value equals to d_mean, assign 50 to the corresponding value in f. \n",
        "# Assign 0 to the corresponding value(s) in f for d_min in d. \n",
        "# Assign 100 to the corresponding value(s) in f for d_max in d. In the end, f should have only the following values: 0, 25, 50, 75, and 100.\n",
        "\n",
        "for v1 in range(0,2):\n",
        "  for v2 in range(0,3):\n",
        "    for v3 in range(0,5):\n",
        "      if d[v1,v2,v3] > d_min and d[v1,v2,v3] < d_mean:\n",
        "        f[v1,v2,v3] = 25\n",
        "      elif d[v1,v2,v3] > d_mean and d[v1,v2,v3] < d_max:\n",
        "        f[v1,v2,v3] = 75\n",
        "      elif d[v1,v2,v3] == d_min:\n",
        "        f[v1,v2,v3] = 0\n",
        "      elif d[v1,v2,v3] == d_max:\n",
        "        f[v1,v2,v3] = 100\n",
        "\n",
        "print(f)\n",
        "print(d)\n",
        "\n",
        "#Yes I have the expected f"
      ],
      "execution_count": null,
      "outputs": [
        {
          "output_type": "stream",
          "text": [
            "[[[ 25  25  75  75   0]\n",
            "  [ 25  25  75   0 100]\n",
            "  [ 75  25  25  75  75]]\n",
            "\n",
            " [[ 25 100 100  75   0]\n",
            "  [ 25 100 100  25  75]\n",
            "  [  0 100   0 100  75]]]\n",
            "[[[ 4  4  7  7  1]\n",
            "  [ 3  2  9  1 10]\n",
            "  [ 6  3  4  7  7]]\n",
            "\n",
            " [[ 4 10 10  7  1]\n",
            "  [ 4 10 10  5  9]\n",
            "  [ 1 10  1 10  8]]]\n"
          ],
          "name": "stdout"
        }
      ]
    },
    {
      "cell_type": "code",
      "metadata": {
        "colab": {
          "base_uri": "https://localhost:8080/"
        },
        "id": "kNosHF9Aq626",
        "outputId": "d4eb6b63-8ccf-407a-9ab5-c8152eb22787"
      },
      "source": [
        "#18 Bonus question: instead of using numbers (i.e. 0, 25, 50, 75, and 100), use string values (\"A\", \"B\", \"C\", \"D\", and \"E\") to label the array elements. For the example above\n",
        "\n",
        "f = np.empty(shape = (2,3,5), dtype = str, order = 'C') \n",
        "\n",
        "for v1 in range(0,2):\n",
        "  for v2 in range(0,3):\n",
        "    for v3 in range(0,5):\n",
        "      if d[v1,v2,v3] > d_min and d[v1,v2,v3] < d_mean:\n",
        "        f[v1,v2,v3] = \"B\"\n",
        "      elif d[v1,v2,v3] > d_mean and d[v1,v2,v3] < d_max:\n",
        "        f[v1,v2,v3] = \"D\"\n",
        "      elif d[v1,v2,v3] == d_min:\n",
        "        f[v1,v2,v3] = \"A\"\n",
        "      elif d[v1,v2,v3] == d_max:\n",
        "        f[v1,v2,v3] = \"E\"\n",
        "\n",
        "print(f)\n",
        "print(d)"
      ],
      "execution_count": null,
      "outputs": [
        {
          "output_type": "stream",
          "text": [
            "[[['B' 'B' 'D' 'D' 'A']\n",
            "  ['B' 'B' 'D' 'A' 'E']\n",
            "  ['D' 'B' 'B' 'D' 'D']]\n",
            "\n",
            " [['B' 'E' 'E' 'D' 'A']\n",
            "  ['B' 'E' 'E' 'B' 'D']\n",
            "  ['A' 'E' 'A' 'E' 'D']]]\n",
            "[[[ 4  4  7  7  1]\n",
            "  [ 3  2  9  1 10]\n",
            "  [ 6  3  4  7  7]]\n",
            "\n",
            " [[ 4 10 10  7  1]\n",
            "  [ 4 10 10  5  9]\n",
            "  [ 1 10  1 10  8]]]\n"
          ],
          "name": "stdout"
        }
      ]
    }
  ]
}